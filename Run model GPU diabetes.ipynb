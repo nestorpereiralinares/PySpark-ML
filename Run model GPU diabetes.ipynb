{
 "cells": [
  {
   "cell_type": "code",
   "execution_count": null,
   "id": "2714a4f6",
   "metadata": {},
   "outputs": [],
   "source": [
    "# What version of Python do you have?\n",
    "import sys\n",
    "\n",
    "import tensorflow.keras\n",
    "import pandas as pd\n",
    "import sklearn as sk\n",
    "import tensorflow as tf\n",
    "\n",
    "print(f\"Tensor Flow Version: {tf.__version__}\")\n",
    "print(f\"Keras Version: {tensorflow.keras.__version__}\")\n",
    "print()\n",
    "print(f\"Python {sys.version}\")\n",
    "print(f\"Pandas {pd.__version__}\")\n",
    "print(f\"Scikit-Learn {sk.__version__}\")\n",
    "gpu = len(tf.config.list_physical_devices('GPU'))>0\n",
    "print(\"GPU is\", \"available\" if gpu else \"NOT AVAILABLE\")"
   ]
  },
  {
   "cell_type": "code",
   "execution_count": null,
   "id": "c438924e",
   "metadata": {},
   "outputs": [],
   "source": [
    "import numpy as np\n",
    "from tensorflow import keras\n",
    "from tensorflow.keras import layers"
   ]
  },
  {
   "cell_type": "code",
   "execution_count": null,
   "id": "d520ee60",
   "metadata": {},
   "outputs": [],
   "source": [
    "from tensorflow.keras.models import Sequential\n",
    "from tensorflow.keras.layers import Dense"
   ]
  },
  {
   "cell_type": "code",
   "execution_count": null,
   "id": "2692c5e6",
   "metadata": {},
   "outputs": [],
   "source": [
    "# Load libraries\n",
    "from keras import models \n",
    "from keras import layers"
   ]
  },
  {
   "cell_type": "code",
   "execution_count": null,
   "id": "4fe3ec6d",
   "metadata": {},
   "outputs": [],
   "source": [
    "# first neural network with keras tutorial\n",
    "from numpy import loadtxt\n",
    "from tensorflow.keras.models import Sequential\n",
    "from tensorflow.keras.layers import Dense\n",
    "# load the dataset"
   ]
  },
  {
   "cell_type": "code",
   "execution_count": null,
   "id": "c7823998",
   "metadata": {},
   "outputs": [],
   "source": [
    "\n",
    "# load the dataset\n",
    "dataset = loadtxt('pima-indians-diabetes.csv', delimiter=',')\n",
    "# split into input (X) and output (y) variables\n",
    "X = dataset[:,0:8]\n",
    "y = dataset[:,8]\n",
    "\n",
    "print (X)  #rows and columns\n",
    "print (y)\n",
    "\n",
    "X[0]  # row 0 one individual\n",
    "\n",
    "X[0:1,0:2] # features Preg and Glucose (columns 0:2) of indiviadual 0\n",
    "X.T  # see columns and the rows \n"
   ]
  },
  {
   "cell_type": "code",
   "execution_count": null,
   "id": "a0c3505a",
   "metadata": {},
   "outputs": [],
   "source": [
    "##\n",
    "## Load Data.\n",
    "## Define Keras Model.\n",
    "## Compile Keras Model.\n",
    "## Fit Keras Model.\n",
    "## Evaluate Keras Model.\n",
    "## Tie It All Together.\n",
    "## Make Predictions"
   ]
  },
  {
   "cell_type": "code",
   "execution_count": null,
   "id": "459c2f0b",
   "metadata": {},
   "outputs": [],
   "source": [
    "\n",
    "# define the keras model\n",
    "model = Sequential()\n",
    "model.add(Dense(12, input_shape=(8,), activation='relu'))\n",
    "# input shape is 8 because 8 features\n",
    "# activation = rectified linear unit  ReLU=max (0,z) sum weighted\n",
    "# fully connected by using 12 nodes  hiden layers\n",
    "\n",
    "#  https://keras.io/api/layers/core_layers/\n",
    "# -------------- ReLU ------\n",
    "# Binary classification:\n",
    "# One unit with a sigmoid activation function.\n",
    "# Multiclass classification:\n",
    "# k units (where k is the number of target classes) and a softmax activation func‐ tion.\n",
    "# Regression:\n",
    "# One unit with no activation function.\n",
    "# ----------------\n",
    "\n",
    "# ------- loss function -------\n",
    "# Binary classification:      Binary cross-entropy.\n",
    "# Multiclass classification:  Categorical cross-entropy.\n",
    "# Regression:                 Mean square error.\n",
    "# ------------------\n",
    "\n",
    "model.add(Dense(8, activation='relu'))\n",
    "# full connected with 8 hiden nodes\n",
    "\n",
    "model.add(Dense(1, activation='sigmoid'))\n",
    "# output 1 feature\n",
    "# activation function= sigmoid function (binary classification)\n",
    "# https://keras.io/api/losses/\n"
   ]
  },
  {
   "cell_type": "code",
   "execution_count": null,
   "id": "136a24ef",
   "metadata": {},
   "outputs": [],
   "source": [
    "# compile the model\n",
    "# https://machinelearningmastery.com/how-to-choose-loss-functions-when-training-deep-learning-neural-networks/\n",
    "\n",
    "# Cross-entropy is the default loss function to use for binary classification problems.\n",
    "# Cross-entropy will calculate a score that summarizes the average difference \n",
    "# between the actual and predicted probability distributions for predicting class 1.\n",
    "\n",
    "\n",
    "# compile the keras model\n",
    "model.compile(loss='binary_crossentropy', optimizer='adam', metrics=['accuracy'])\n",
    "\n",
    "# optimizer as the efficient stochastic gradient descent algorithm “adam“. \n",
    "# gradient descent because it automatically tunes itself and \n",
    "# gives good results in a wide range of problems.\n",
    "# https://machinelearningmastery.com/adam-optimization-algorithm-for-deep-learning/\n",
    "# metrics argument\n",
    "\n",
    "\n",
    "\n",
    "# alternative\n",
    "#compile the keras model with root mean square propagation optimizer\n",
    "#model.compile(loss='binary_crossentropy',              \n",
    "#            optimizer='rmsprop', \n",
    "#            metrics=['accuracy'])\n",
    "\n",
    "\n",
    "\n"
   ]
  },
  {
   "cell_type": "code",
   "execution_count": null,
   "id": "a1add9f6",
   "metadata": {},
   "outputs": [],
   "source": [
    "# https://machinelearningmastery.com/difference-between-a-batch-and-an-epoch/\n",
    "\n",
    "# fit the keras model on the dataset\n",
    "model.fit(X, y, epochs=50, batch_size=10)\n",
    "\n",
    "# 150 nº fixed of iterations through teh dataset\n",
    "# 10 size 10 observations per batch\n",
    "\n",
    "# Batch Gradient Descent. Batch Size = Size of Training Set\n",
    "# Stochastic Gradient Descent. Batch Size = 1\n",
    "# Mini-Batch Gradient Descent. 1 < Batch Size < Size of Training Set\n",
    "\n",
    "# In the case of mini-batch gradient descent, \n",
    "# popular batch sizes include 32, 64, and 128 samples. \n",
    "\n",
    "# Epoch: One pass through all of the rows in the training dataset.\n",
    "# Batch: One or more samples considered by the model within an epoch before weights are updated.\n",
    "# One epoch is comprised of one or more batches\n",
    "\n",
    "\n",
    "\n",
    "\n"
   ]
  },
  {
   "cell_type": "code",
   "execution_count": null,
   "id": "20b9140d",
   "metadata": {},
   "outputs": [],
   "source": [
    "# evaluate the model\n",
    "#  ideally, you could separate your data into train and test datasets for training \n",
    "#  and evaluation of your model.\n",
    "\n",
    "# average loos and accuracy\n",
    "\n",
    "_, accuracy = model.evaluate(X, y)\n",
    "print('Accuracy: %.2f' % (accuracy*100))\n",
    "\n"
   ]
  },
  {
   "cell_type": "code",
   "execution_count": null,
   "id": "a366dc79",
   "metadata": {},
   "outputs": [],
   "source": [
    "# make prediction\n",
    "\n",
    "# new data X\n",
    "# make probability predictions with the model\n",
    "\n",
    "# make class predictions with the model\n",
    "predictions = (model.predict(X) > 0.5).astype(int)\n",
    "# summarize the first 10 cases\n",
    "for i in range(10):\n",
    "    print('%s => %d (expected %d)' % (X[i].tolist(), predictions[i], y[i]))"
   ]
  },
  {
   "cell_type": "code",
   "execution_count": null,
   "id": "8080acee",
   "metadata": {},
   "outputs": [],
   "source": [
    "\n",
    "# baseline model for the dogs vs cats dataset\n",
    "import sys\n",
    "from matplotlib import pyplot\n",
    "from tensorflow.keras.utils import to_categorical\n",
    "from tensorflow.keras.models import Sequential\n",
    "from tensorflow.keras.layers import Conv2D\n",
    "from tensorflow.keras.layers import MaxPooling2D\n",
    "from tensorflow.keras.layers import Dense\n",
    "from tensorflow.keras.layers import Flatten\n",
    "from tensorflow.keras.optimizers import SGD\n",
    "from tensorflow.keras.preprocessing.image import ImageDataGenerator\n"
   ]
  },
  {
   "cell_type": "code",
   "execution_count": null,
   "id": "02edbfff",
   "metadata": {},
   "outputs": [],
   "source": [
    "# plot dog photos from the dogs vs cats dataset\n",
    "from matplotlib import pyplot\n",
    "from matplotlib.image import imread\n",
    "import cv2\n",
    "print(cv2.__version__)\n",
    "\n"
   ]
  },
  {
   "cell_type": "code",
   "execution_count": null,
   "id": "e2fe166d",
   "metadata": {},
   "outputs": [],
   "source": []
  }
 ],
 "metadata": {
  "kernelspec": {
   "display_name": "Python 3 (ipykernel)",
   "language": "python",
   "name": "python3"
  },
  "language_info": {
   "codemirror_mode": {
    "name": "ipython",
    "version": 3
   },
   "file_extension": ".py",
   "mimetype": "text/x-python",
   "name": "python",
   "nbconvert_exporter": "python",
   "pygments_lexer": "ipython3",
   "version": "3.9.15"
  }
 },
 "nbformat": 4,
 "nbformat_minor": 5
}
